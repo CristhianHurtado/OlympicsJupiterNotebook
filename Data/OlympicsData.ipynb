{
 "cells": [
  {
   "cell_type": "code",
   "execution_count": 32,
   "id": "01d42d10",
   "metadata": {},
   "outputs": [],
   "source": [
    "import numpy as np"
   ]
  },
  {
   "cell_type": "code",
   "execution_count": 33,
   "id": "9fcc6b06",
   "metadata": {},
   "outputs": [],
   "source": [
    "import pandas as pd"
   ]
  },
  {
   "cell_type": "code",
   "execution_count": 34,
   "id": "a7f9a293",
   "metadata": {},
   "outputs": [],
   "source": [
    "#1).\n",
    "teams = pd.read_csv('olympics.csv', index_col = 'Country')"
   ]
  },
  {
   "cell_type": "code",
   "execution_count": 35,
   "id": "41f90242",
   "metadata": {},
   "outputs": [
    {
     "data": {
      "text/html": [
       "<div>\n",
       "<style scoped>\n",
       "    .dataframe tbody tr th:only-of-type {\n",
       "        vertical-align: middle;\n",
       "    }\n",
       "\n",
       "    .dataframe tbody tr th {\n",
       "        vertical-align: top;\n",
       "    }\n",
       "\n",
       "    .dataframe thead th {\n",
       "        text-align: right;\n",
       "    }\n",
       "</style>\n",
       "<table border=\"1\" class=\"dataframe\">\n",
       "  <thead>\n",
       "    <tr style=\"text-align: right;\">\n",
       "      <th></th>\n",
       "      <th>Num Summer</th>\n",
       "      <th>SG</th>\n",
       "      <th>SS</th>\n",
       "      <th>SB</th>\n",
       "      <th>Num Winter</th>\n",
       "      <th>WG</th>\n",
       "      <th>WS</th>\n",
       "      <th>WB</th>\n",
       "    </tr>\n",
       "    <tr>\n",
       "      <th>Country</th>\n",
       "      <th></th>\n",
       "      <th></th>\n",
       "      <th></th>\n",
       "      <th></th>\n",
       "      <th></th>\n",
       "      <th></th>\n",
       "      <th></th>\n",
       "      <th></th>\n",
       "    </tr>\n",
       "  </thead>\n",
       "  <tbody>\n",
       "    <tr>\n",
       "      <th>Afghanistan (AFG)</th>\n",
       "      <td>13</td>\n",
       "      <td>0</td>\n",
       "      <td>0</td>\n",
       "      <td>2</td>\n",
       "      <td>0</td>\n",
       "      <td>0</td>\n",
       "      <td>0</td>\n",
       "      <td>0</td>\n",
       "    </tr>\n",
       "    <tr>\n",
       "      <th>Algeria (ALG)</th>\n",
       "      <td>12</td>\n",
       "      <td>5</td>\n",
       "      <td>2</td>\n",
       "      <td>8</td>\n",
       "      <td>3</td>\n",
       "      <td>0</td>\n",
       "      <td>0</td>\n",
       "      <td>0</td>\n",
       "    </tr>\n",
       "    <tr>\n",
       "      <th>Argentina (ARG)</th>\n",
       "      <td>23</td>\n",
       "      <td>18</td>\n",
       "      <td>24</td>\n",
       "      <td>28</td>\n",
       "      <td>18</td>\n",
       "      <td>0</td>\n",
       "      <td>0</td>\n",
       "      <td>0</td>\n",
       "    </tr>\n",
       "    <tr>\n",
       "      <th>Armenia (ARM)</th>\n",
       "      <td>5</td>\n",
       "      <td>1</td>\n",
       "      <td>2</td>\n",
       "      <td>9</td>\n",
       "      <td>6</td>\n",
       "      <td>0</td>\n",
       "      <td>0</td>\n",
       "      <td>0</td>\n",
       "    </tr>\n",
       "    <tr>\n",
       "      <th>Australasia (ANZ) [ANZ]</th>\n",
       "      <td>2</td>\n",
       "      <td>3</td>\n",
       "      <td>4</td>\n",
       "      <td>5</td>\n",
       "      <td>0</td>\n",
       "      <td>0</td>\n",
       "      <td>0</td>\n",
       "      <td>0</td>\n",
       "    </tr>\n",
       "    <tr>\n",
       "      <th>...</th>\n",
       "      <td>...</td>\n",
       "      <td>...</td>\n",
       "      <td>...</td>\n",
       "      <td>...</td>\n",
       "      <td>...</td>\n",
       "      <td>...</td>\n",
       "      <td>...</td>\n",
       "      <td>...</td>\n",
       "    </tr>\n",
       "    <tr>\n",
       "      <th>Yugoslavia (YUG) [YUG]</th>\n",
       "      <td>16</td>\n",
       "      <td>26</td>\n",
       "      <td>29</td>\n",
       "      <td>28</td>\n",
       "      <td>14</td>\n",
       "      <td>0</td>\n",
       "      <td>3</td>\n",
       "      <td>1</td>\n",
       "    </tr>\n",
       "    <tr>\n",
       "      <th>Independent Olympic Participants (IOP) [IOP]</th>\n",
       "      <td>1</td>\n",
       "      <td>0</td>\n",
       "      <td>1</td>\n",
       "      <td>2</td>\n",
       "      <td>0</td>\n",
       "      <td>0</td>\n",
       "      <td>0</td>\n",
       "      <td>0</td>\n",
       "    </tr>\n",
       "    <tr>\n",
       "      <th>Zambia (ZAM) [ZAM]</th>\n",
       "      <td>12</td>\n",
       "      <td>0</td>\n",
       "      <td>1</td>\n",
       "      <td>1</td>\n",
       "      <td>0</td>\n",
       "      <td>0</td>\n",
       "      <td>0</td>\n",
       "      <td>0</td>\n",
       "    </tr>\n",
       "    <tr>\n",
       "      <th>Zimbabwe (ZIM) [ZIM]</th>\n",
       "      <td>12</td>\n",
       "      <td>3</td>\n",
       "      <td>4</td>\n",
       "      <td>1</td>\n",
       "      <td>1</td>\n",
       "      <td>0</td>\n",
       "      <td>0</td>\n",
       "      <td>0</td>\n",
       "    </tr>\n",
       "    <tr>\n",
       "      <th>Mixed team (ZZX) [ZZX]</th>\n",
       "      <td>3</td>\n",
       "      <td>8</td>\n",
       "      <td>5</td>\n",
       "      <td>4</td>\n",
       "      <td>0</td>\n",
       "      <td>0</td>\n",
       "      <td>0</td>\n",
       "      <td>0</td>\n",
       "    </tr>\n",
       "  </tbody>\n",
       "</table>\n",
       "<p>146 rows × 8 columns</p>\n",
       "</div>"
      ],
      "text/plain": [
       "                                              Num Summer  SG  SS  SB  \\\n",
       "Country                                                                \n",
       "Afghanistan (AFG)                                     13   0   0   2   \n",
       "Algeria (ALG)                                         12   5   2   8   \n",
       "Argentina (ARG)                                       23  18  24  28   \n",
       "Armenia (ARM)                                          5   1   2   9   \n",
       "Australasia (ANZ) [ANZ]                                2   3   4   5   \n",
       "...                                                  ...  ..  ..  ..   \n",
       "Yugoslavia (YUG) [YUG]                                16  26  29  28   \n",
       "Independent Olympic Participants (IOP) [IOP]           1   0   1   2   \n",
       "Zambia (ZAM) [ZAM]                                    12   0   1   1   \n",
       "Zimbabwe (ZIM) [ZIM]                                  12   3   4   1   \n",
       "Mixed team (ZZX) [ZZX]                                 3   8   5   4   \n",
       "\n",
       "                                              Num Winter  WG  WS  WB  \n",
       "Country                                                               \n",
       "Afghanistan (AFG)                                      0   0   0   0  \n",
       "Algeria (ALG)                                          3   0   0   0  \n",
       "Argentina (ARG)                                       18   0   0   0  \n",
       "Armenia (ARM)                                          6   0   0   0  \n",
       "Australasia (ANZ) [ANZ]                                0   0   0   0  \n",
       "...                                                  ...  ..  ..  ..  \n",
       "Yugoslavia (YUG) [YUG]                                14   0   3   1  \n",
       "Independent Olympic Participants (IOP) [IOP]           0   0   0   0  \n",
       "Zambia (ZAM) [ZAM]                                     0   0   0   0  \n",
       "Zimbabwe (ZIM) [ZIM]                                   1   0   0   0  \n",
       "Mixed team (ZZX) [ZZX]                                 0   0   0   0  \n",
       "\n",
       "[146 rows x 8 columns]"
      ]
     },
     "execution_count": 35,
     "metadata": {},
     "output_type": "execute_result"
    }
   ],
   "source": [
    "teams"
   ]
  },
  {
   "cell_type": "code",
   "execution_count": 36,
   "id": "d73a14b8",
   "metadata": {},
   "outputs": [],
   "source": [
    "#2).\n",
    "played_games_teams_mask = (teams.loc[:, 'Num Summer'] >= 20) & (teams.loc[:, 'Num Winter'] >= 20)"
   ]
  },
  {
   "cell_type": "code",
   "execution_count": 37,
   "id": "119e33df",
   "metadata": {},
   "outputs": [
    {
     "data": {
      "text/plain": [
       "Country\n",
       "Afghanistan (AFG)                               False\n",
       "Algeria (ALG)                                   False\n",
       "Argentina (ARG)                                 False\n",
       "Armenia (ARM)                                   False\n",
       "Australasia (ANZ) [ANZ]                         False\n",
       "                                                ...  \n",
       "Yugoslavia (YUG) [YUG]                          False\n",
       "Independent Olympic Participants (IOP) [IOP]    False\n",
       "Zambia (ZAM) [ZAM]                              False\n",
       "Zimbabwe (ZIM) [ZIM]                            False\n",
       "Mixed team (ZZX) [ZZX]                          False\n",
       "Length: 146, dtype: bool"
      ]
     },
     "execution_count": 37,
     "metadata": {},
     "output_type": "execute_result"
    }
   ],
   "source": [
    "played_games_teams_mask"
   ]
  },
  {
   "cell_type": "code",
   "execution_count": 38,
   "id": "65d5224a",
   "metadata": {},
   "outputs": [],
   "source": [
    "played_games_teams = teams[played_games_teams_mask]"
   ]
  },
  {
   "cell_type": "code",
   "execution_count": 39,
   "id": "a1b63bad",
   "metadata": {},
   "outputs": [
    {
     "data": {
      "text/html": [
       "<div>\n",
       "<style scoped>\n",
       "    .dataframe tbody tr th:only-of-type {\n",
       "        vertical-align: middle;\n",
       "    }\n",
       "\n",
       "    .dataframe tbody tr th {\n",
       "        vertical-align: top;\n",
       "    }\n",
       "\n",
       "    .dataframe thead th {\n",
       "        text-align: right;\n",
       "    }\n",
       "</style>\n",
       "<table border=\"1\" class=\"dataframe\">\n",
       "  <thead>\n",
       "    <tr style=\"text-align: right;\">\n",
       "      <th></th>\n",
       "      <th>Num Summer</th>\n",
       "      <th>SG</th>\n",
       "      <th>SS</th>\n",
       "      <th>SB</th>\n",
       "      <th>Num Winter</th>\n",
       "      <th>WG</th>\n",
       "      <th>WS</th>\n",
       "      <th>WB</th>\n",
       "    </tr>\n",
       "    <tr>\n",
       "      <th>Country</th>\n",
       "      <th></th>\n",
       "      <th></th>\n",
       "      <th></th>\n",
       "      <th></th>\n",
       "      <th></th>\n",
       "      <th></th>\n",
       "      <th></th>\n",
       "      <th></th>\n",
       "    </tr>\n",
       "  </thead>\n",
       "  <tbody>\n",
       "    <tr>\n",
       "      <th>Austria (AUT)</th>\n",
       "      <td>26</td>\n",
       "      <td>18</td>\n",
       "      <td>33</td>\n",
       "      <td>35</td>\n",
       "      <td>22</td>\n",
       "      <td>59</td>\n",
       "      <td>78</td>\n",
       "      <td>81</td>\n",
       "    </tr>\n",
       "    <tr>\n",
       "      <th>Belgium (BEL)</th>\n",
       "      <td>25</td>\n",
       "      <td>37</td>\n",
       "      <td>52</td>\n",
       "      <td>53</td>\n",
       "      <td>20</td>\n",
       "      <td>1</td>\n",
       "      <td>1</td>\n",
       "      <td>3</td>\n",
       "    </tr>\n",
       "    <tr>\n",
       "      <th>Canada (CAN)</th>\n",
       "      <td>25</td>\n",
       "      <td>59</td>\n",
       "      <td>99</td>\n",
       "      <td>121</td>\n",
       "      <td>22</td>\n",
       "      <td>62</td>\n",
       "      <td>56</td>\n",
       "      <td>52</td>\n",
       "    </tr>\n",
       "    <tr>\n",
       "      <th>Finland (FIN)</th>\n",
       "      <td>24</td>\n",
       "      <td>101</td>\n",
       "      <td>84</td>\n",
       "      <td>117</td>\n",
       "      <td>22</td>\n",
       "      <td>42</td>\n",
       "      <td>62</td>\n",
       "      <td>57</td>\n",
       "    </tr>\n",
       "    <tr>\n",
       "      <th>France (FRA) [O] [P] [Z]</th>\n",
       "      <td>27</td>\n",
       "      <td>202</td>\n",
       "      <td>223</td>\n",
       "      <td>246</td>\n",
       "      <td>22</td>\n",
       "      <td>31</td>\n",
       "      <td>31</td>\n",
       "      <td>47</td>\n",
       "    </tr>\n",
       "    <tr>\n",
       "      <th>Great Britain (GBR) [GBR] [Z]</th>\n",
       "      <td>27</td>\n",
       "      <td>236</td>\n",
       "      <td>272</td>\n",
       "      <td>272</td>\n",
       "      <td>22</td>\n",
       "      <td>10</td>\n",
       "      <td>4</td>\n",
       "      <td>12</td>\n",
       "    </tr>\n",
       "    <tr>\n",
       "      <th>Hungary (HUN)</th>\n",
       "      <td>25</td>\n",
       "      <td>167</td>\n",
       "      <td>144</td>\n",
       "      <td>165</td>\n",
       "      <td>22</td>\n",
       "      <td>0</td>\n",
       "      <td>2</td>\n",
       "      <td>4</td>\n",
       "    </tr>\n",
       "    <tr>\n",
       "      <th>Italy (ITA) [M] [S]</th>\n",
       "      <td>26</td>\n",
       "      <td>198</td>\n",
       "      <td>166</td>\n",
       "      <td>185</td>\n",
       "      <td>22</td>\n",
       "      <td>37</td>\n",
       "      <td>34</td>\n",
       "      <td>43</td>\n",
       "    </tr>\n",
       "    <tr>\n",
       "      <th>Japan (JPN)</th>\n",
       "      <td>21</td>\n",
       "      <td>130</td>\n",
       "      <td>126</td>\n",
       "      <td>142</td>\n",
       "      <td>20</td>\n",
       "      <td>10</td>\n",
       "      <td>17</td>\n",
       "      <td>18</td>\n",
       "    </tr>\n",
       "    <tr>\n",
       "      <th>Netherlands (NED) [Z]</th>\n",
       "      <td>25</td>\n",
       "      <td>77</td>\n",
       "      <td>85</td>\n",
       "      <td>104</td>\n",
       "      <td>20</td>\n",
       "      <td>37</td>\n",
       "      <td>38</td>\n",
       "      <td>35</td>\n",
       "    </tr>\n",
       "    <tr>\n",
       "      <th>Norway (NOR) [Q]</th>\n",
       "      <td>24</td>\n",
       "      <td>56</td>\n",
       "      <td>49</td>\n",
       "      <td>43</td>\n",
       "      <td>22</td>\n",
       "      <td>118</td>\n",
       "      <td>111</td>\n",
       "      <td>100</td>\n",
       "    </tr>\n",
       "    <tr>\n",
       "      <th>Poland (POL)</th>\n",
       "      <td>20</td>\n",
       "      <td>64</td>\n",
       "      <td>82</td>\n",
       "      <td>125</td>\n",
       "      <td>22</td>\n",
       "      <td>6</td>\n",
       "      <td>7</td>\n",
       "      <td>7</td>\n",
       "    </tr>\n",
       "    <tr>\n",
       "      <th>Romania (ROU)</th>\n",
       "      <td>20</td>\n",
       "      <td>88</td>\n",
       "      <td>94</td>\n",
       "      <td>119</td>\n",
       "      <td>20</td>\n",
       "      <td>0</td>\n",
       "      <td>0</td>\n",
       "      <td>1</td>\n",
       "    </tr>\n",
       "    <tr>\n",
       "      <th>Sweden (SWE) [Z]</th>\n",
       "      <td>26</td>\n",
       "      <td>143</td>\n",
       "      <td>164</td>\n",
       "      <td>176</td>\n",
       "      <td>22</td>\n",
       "      <td>50</td>\n",
       "      <td>40</td>\n",
       "      <td>54</td>\n",
       "    </tr>\n",
       "    <tr>\n",
       "      <th>Switzerland (SUI)</th>\n",
       "      <td>27</td>\n",
       "      <td>47</td>\n",
       "      <td>73</td>\n",
       "      <td>65</td>\n",
       "      <td>22</td>\n",
       "      <td>50</td>\n",
       "      <td>40</td>\n",
       "      <td>48</td>\n",
       "    </tr>\n",
       "    <tr>\n",
       "      <th>United States (USA) [P] [Q] [R] [Z]</th>\n",
       "      <td>26</td>\n",
       "      <td>976</td>\n",
       "      <td>757</td>\n",
       "      <td>666</td>\n",
       "      <td>22</td>\n",
       "      <td>96</td>\n",
       "      <td>102</td>\n",
       "      <td>84</td>\n",
       "    </tr>\n",
       "  </tbody>\n",
       "</table>\n",
       "</div>"
      ],
      "text/plain": [
       "                                     Num Summer   SG   SS   SB  Num Winter  \\\n",
       "Country                                                                      \n",
       "Austria (AUT)                                26   18   33   35          22   \n",
       "Belgium (BEL)                                25   37   52   53          20   \n",
       "Canada (CAN)                                 25   59   99  121          22   \n",
       "Finland (FIN)                                24  101   84  117          22   \n",
       "France (FRA) [O] [P] [Z]                     27  202  223  246          22   \n",
       "Great Britain (GBR) [GBR] [Z]                27  236  272  272          22   \n",
       "Hungary (HUN)                                25  167  144  165          22   \n",
       "Italy (ITA) [M] [S]                          26  198  166  185          22   \n",
       "Japan (JPN)                                  21  130  126  142          20   \n",
       "Netherlands (NED) [Z]                        25   77   85  104          20   \n",
       "Norway (NOR) [Q]                             24   56   49   43          22   \n",
       "Poland (POL)                                 20   64   82  125          22   \n",
       "Romania (ROU)                                20   88   94  119          20   \n",
       "Sweden (SWE) [Z]                             26  143  164  176          22   \n",
       "Switzerland (SUI)                            27   47   73   65          22   \n",
       "United States (USA) [P] [Q] [R] [Z]          26  976  757  666          22   \n",
       "\n",
       "                                      WG   WS   WB  \n",
       "Country                                             \n",
       "Austria (AUT)                         59   78   81  \n",
       "Belgium (BEL)                          1    1    3  \n",
       "Canada (CAN)                          62   56   52  \n",
       "Finland (FIN)                         42   62   57  \n",
       "France (FRA) [O] [P] [Z]              31   31   47  \n",
       "Great Britain (GBR) [GBR] [Z]         10    4   12  \n",
       "Hungary (HUN)                          0    2    4  \n",
       "Italy (ITA) [M] [S]                   37   34   43  \n",
       "Japan (JPN)                           10   17   18  \n",
       "Netherlands (NED) [Z]                 37   38   35  \n",
       "Norway (NOR) [Q]                     118  111  100  \n",
       "Poland (POL)                           6    7    7  \n",
       "Romania (ROU)                          0    0    1  \n",
       "Sweden (SWE) [Z]                      50   40   54  \n",
       "Switzerland (SUI)                     50   40   48  \n",
       "United States (USA) [P] [Q] [R] [Z]   96  102   84  "
      ]
     },
     "execution_count": 39,
     "metadata": {},
     "output_type": "execute_result"
    }
   ],
   "source": [
    "played_games_teams"
   ]
  },
  {
   "cell_type": "code",
   "execution_count": 40,
   "id": "ed1b7aed",
   "metadata": {},
   "outputs": [],
   "source": [
    "#3).\n",
    "summer_games = played_games_teams.loc[:, 'Num Summer']"
   ]
  },
  {
   "cell_type": "code",
   "execution_count": 41,
   "id": "fefadde5",
   "metadata": {},
   "outputs": [],
   "source": [
    "summer_sg = played_games_teams.loc[:, 'SG'] * 5"
   ]
  },
  {
   "cell_type": "code",
   "execution_count": 42,
   "id": "fdc6efe4",
   "metadata": {},
   "outputs": [],
   "source": [
    "summer_ss = played_games_teams.loc[:, 'SS'] * 3"
   ]
  },
  {
   "cell_type": "code",
   "execution_count": 43,
   "id": "e9ed3a46",
   "metadata": {},
   "outputs": [],
   "source": [
    "summer_sb = played_games_teams.loc[:, 'SB'] * 1"
   ]
  },
  {
   "cell_type": "code",
   "execution_count": 44,
   "id": "4bdb69bf",
   "metadata": {},
   "outputs": [],
   "source": [
    "summer_score = (summer_sg + summer_ss+ summer_sb) * summer_games"
   ]
  },
  {
   "cell_type": "code",
   "execution_count": 45,
   "id": "2c74f7e4",
   "metadata": {},
   "outputs": [
    {
     "data": {
      "text/plain": [
       "Country\n",
       "Austria (AUT)                            5824\n",
       "Belgium (BEL)                            9850\n",
       "Canada (CAN)                            17825\n",
       "Finland (FIN)                           20976\n",
       "France (FRA) [O] [P] [Z]                51975\n",
       "Great Britain (GBR) [GBR] [Z]           61236\n",
       "Hungary (HUN)                           35800\n",
       "Italy (ITA) [M] [S]                     43498\n",
       "Japan (JPN)                             24570\n",
       "Netherlands (NED) [Z]                   18600\n",
       "Norway (NOR) [Q]                        11280\n",
       "Poland (POL)                            13820\n",
       "Romania (ROU)                           16820\n",
       "Sweden (SWE) [Z]                        35958\n",
       "Switzerland (SUI)                       14013\n",
       "United States (USA) [P] [Q] [R] [Z]    203242\n",
       "dtype: int64"
      ]
     },
     "execution_count": 45,
     "metadata": {},
     "output_type": "execute_result"
    }
   ],
   "source": [
    "summer_score"
   ]
  },
  {
   "cell_type": "code",
   "execution_count": 46,
   "id": "9cb0136d",
   "metadata": {},
   "outputs": [],
   "source": [
    "winter_games = played_games_teams.loc[:, 'Num Winter']"
   ]
  },
  {
   "cell_type": "code",
   "execution_count": 47,
   "id": "e46faa27",
   "metadata": {},
   "outputs": [],
   "source": [
    "winter_wg = played_games_teams.loc[:, 'WG'] * 5"
   ]
  },
  {
   "cell_type": "code",
   "execution_count": 48,
   "id": "ca74b0d7",
   "metadata": {},
   "outputs": [],
   "source": [
    "winter_ws = played_games_teams.loc[:, 'WS'] * 3"
   ]
  },
  {
   "cell_type": "code",
   "execution_count": 49,
   "id": "b0fc3c2c",
   "metadata": {},
   "outputs": [],
   "source": [
    "winter_wb = played_games_teams.loc[:, 'WB'] * 1"
   ]
  },
  {
   "cell_type": "code",
   "execution_count": 50,
   "id": "0a627e5a",
   "metadata": {},
   "outputs": [],
   "source": [
    "winter_score = (winter_wb + winter_ws + winter_wb) * winter_games "
   ]
  },
  {
   "cell_type": "code",
   "execution_count": 51,
   "id": "b3cd6e9f",
   "metadata": {},
   "outputs": [
    {
     "data": {
      "text/plain": [
       "Country\n",
       "Austria (AUT)                           8712\n",
       "Belgium (BEL)                            180\n",
       "Canada (CAN)                            5984\n",
       "Finland (FIN)                           6600\n",
       "France (FRA) [O] [P] [Z]                4114\n",
       "Great Britain (GBR) [GBR] [Z]            792\n",
       "Hungary (HUN)                            308\n",
       "Italy (ITA) [M] [S]                     4136\n",
       "Japan (JPN)                             1740\n",
       "Netherlands (NED) [Z]                   3680\n",
       "Norway (NOR) [Q]                       11726\n",
       "Poland (POL)                             770\n",
       "Romania (ROU)                             40\n",
       "Sweden (SWE) [Z]                        5016\n",
       "Switzerland (SUI)                       4752\n",
       "United States (USA) [P] [Q] [R] [Z]    10428\n",
       "dtype: int64"
      ]
     },
     "execution_count": 51,
     "metadata": {},
     "output_type": "execute_result"
    }
   ],
   "source": [
    "winter_score"
   ]
  },
  {
   "cell_type": "code",
   "execution_count": 52,
   "id": "2b4b64d8",
   "metadata": {},
   "outputs": [],
   "source": [
    "ss = summer_score.values.tolist()"
   ]
  },
  {
   "cell_type": "code",
   "execution_count": 53,
   "id": "62d71666",
   "metadata": {},
   "outputs": [],
   "source": [
    "ws = winter_score.values.tolist()"
   ]
  },
  {
   "cell_type": "code",
   "execution_count": 54,
   "id": "d20c7b8e",
   "metadata": {},
   "outputs": [],
   "source": [
    "Countries = summer_score.index.tolist()"
   ]
  },
  {
   "cell_type": "code",
   "execution_count": 55,
   "id": "367385aa",
   "metadata": {},
   "outputs": [],
   "source": [
    "team_score_aux = {'Country':Countries, 'Summer Score': ss, 'Winter Score':ws}"
   ]
  },
  {
   "cell_type": "code",
   "execution_count": 56,
   "id": "af1409e9",
   "metadata": {},
   "outputs": [
    {
     "data": {
      "text/plain": [
       "{'Country': ['Austria (AUT)',\n",
       "  'Belgium (BEL)',\n",
       "  'Canada (CAN)',\n",
       "  'Finland (FIN)',\n",
       "  'France (FRA) [O] [P] [Z]',\n",
       "  'Great Britain (GBR) [GBR] [Z]',\n",
       "  'Hungary (HUN)',\n",
       "  'Italy (ITA) [M] [S]',\n",
       "  'Japan (JPN)',\n",
       "  'Netherlands (NED) [Z]',\n",
       "  'Norway (NOR) [Q]',\n",
       "  'Poland (POL)',\n",
       "  'Romania (ROU)',\n",
       "  'Sweden (SWE) [Z]',\n",
       "  'Switzerland (SUI)',\n",
       "  'United States (USA) [P] [Q] [R] [Z]'],\n",
       " 'Summer Score': [5824,\n",
       "  9850,\n",
       "  17825,\n",
       "  20976,\n",
       "  51975,\n",
       "  61236,\n",
       "  35800,\n",
       "  43498,\n",
       "  24570,\n",
       "  18600,\n",
       "  11280,\n",
       "  13820,\n",
       "  16820,\n",
       "  35958,\n",
       "  14013,\n",
       "  203242],\n",
       " 'Winter Score': [8712,\n",
       "  180,\n",
       "  5984,\n",
       "  6600,\n",
       "  4114,\n",
       "  792,\n",
       "  308,\n",
       "  4136,\n",
       "  1740,\n",
       "  3680,\n",
       "  11726,\n",
       "  770,\n",
       "  40,\n",
       "  5016,\n",
       "  4752,\n",
       "  10428]}"
      ]
     },
     "execution_count": 56,
     "metadata": {},
     "output_type": "execute_result"
    }
   ],
   "source": [
    "team_score_aux"
   ]
  },
  {
   "cell_type": "code",
   "execution_count": 57,
   "id": "d258fd29",
   "metadata": {},
   "outputs": [],
   "source": [
    "team_score_df = pd.DataFrame(team_score_aux).set_index('Country')"
   ]
  },
  {
   "cell_type": "code",
   "execution_count": 58,
   "id": "9c11a493",
   "metadata": {},
   "outputs": [],
   "source": [
    "#4).\n",
    "high_score_summer = team_score_df.loc[:,'Summer Score'].nlargest(3)"
   ]
  },
  {
   "cell_type": "code",
   "execution_count": 59,
   "id": "77c3a784",
   "metadata": {},
   "outputs": [
    {
     "data": {
      "text/plain": [
       "Country\n",
       "United States (USA) [P] [Q] [R] [Z]    203242\n",
       "Great Britain (GBR) [GBR] [Z]           61236\n",
       "France (FRA) [O] [P] [Z]                51975\n",
       "Name: Summer Score, dtype: int64"
      ]
     },
     "execution_count": 59,
     "metadata": {},
     "output_type": "execute_result"
    }
   ],
   "source": [
    "high_score_summer"
   ]
  },
  {
   "cell_type": "code",
   "execution_count": 60,
   "id": "3212cfd1",
   "metadata": {},
   "outputs": [
    {
     "data": {
      "text/plain": [
       "<AxesSubplot:title={'center':'Top 3 Summer Scores'}>"
      ]
     },
     "execution_count": 60,
     "metadata": {},
     "output_type": "execute_result"
    },
    {
     "data": {
      "image/png": "[encoded data removed]",
      "text/plain": [
       "<Figure size 432x288 with 1 Axes>"
      ]
     },
     "metadata": {},
     "output_type": "display_data"
    }
   ],
   "source": [
    "high_score_summer.plot.pie(x = 'Country', ylabel = \"\", title = 'Top 3 Summer Scores')"
   ]
  },
  {
   "cell_type": "code",
   "execution_count": 62,
   "id": "80a84e18",
   "metadata": {},
   "outputs": [],
   "source": [
    "high_score_winter = team_score_df.iloc[:, 1].nlargest(3)"
   ]
  },
  {
   "cell_type": "code",
   "execution_count": 63,
   "id": "2663468c",
   "metadata": {},
   "outputs": [
    {
     "data": {
      "text/plain": [
       "Country\n",
       "Norway (NOR) [Q]                       11726\n",
       "United States (USA) [P] [Q] [R] [Z]    10428\n",
       "Austria (AUT)                           8712\n",
       "Name: Winter Score, dtype: int64"
      ]
     },
     "execution_count": 63,
     "metadata": {},
     "output_type": "execute_result"
    }
   ],
   "source": [
    "high_score_winter"
   ]
  },
  {
   "cell_type": "code",
   "execution_count": 64,
   "id": "6eedb248",
   "metadata": {},
   "outputs": [
    {
     "data": {
      "text/plain": [
       "<AxesSubplot:title={'center':'Top 3 Winter Scores'}>"
      ]
     },
     "execution_count": 64,
     "metadata": {},
     "output_type": "execute_result"
    },
    {
     "data": {
      "image/png": "[encoded data removed]",
      "text/plain": [
       "<Figure size 432x288 with 1 Axes>"
      ]
     },
     "metadata": {},
     "output_type": "display_data"
    }
   ],
   "source": [
    "high_score_winter.plot.pie(x = 'Country', ylabel = \"\", title = 'Top 3 Winter Scores')"
   ]
  },
  {
   "cell_type": "code",
   "execution_count": null,
   "id": "829f21e9",
   "metadata": {},
   "outputs": [],
   "source": []
  }
 ],
 "metadata": {
  "kernelspec": {
   "display_name": "Python 3 (ipykernel)",
   "language": "python",
   "name": "python3"
  },
  "language_info": {
   "codemirror_mode": {
    "name": "ipython",
    "version": 3
   },
   "file_extension": ".py",
   "mimetype": "text/x-python",
   "name": "python",
   "nbconvert_exporter": "python",
   "pygments_lexer": "ipython3",
   "version": "3.9.7"
  }
 },
 "nbformat": 4,
 "nbformat_minor": 5
}
